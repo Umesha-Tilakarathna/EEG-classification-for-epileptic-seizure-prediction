{
 "cells": [
  {
   "cell_type": "code",
   "execution_count": 1,
   "metadata": {},
   "outputs": [
    {
     "name": "stdout",
     "output_type": "stream",
     "text": [
      "Extended dataset generated successfully!\n"
     ]
    }
   ],
   "source": [
    "import os\n",
    "import numpy as np\n",
    "\n",
    "# Set the root path to the original dataset\n",
    "root_path = 'Dataset'  # Change this to your actual root path\n",
    "folders = {'A': 'Z', 'E': 'S'}  # Map of original folder names to signal types\n",
    "\n",
    "# Set the destination path for the new dataset\n",
    "new_root_path = os.path.join(root_path, 'Extended_Data_1')\n",
    "\n",
    "# Ensure the new folder structure exists\n",
    "os.makedirs(new_root_path, exist_ok=True)\n",
    "\n",
    "# Helper function to divide a signal into parts\n",
    "def divide_signal(signal, num_parts):\n",
    "    length = len(signal)\n",
    "    part_size = length // num_parts\n",
    "    return [signal[i * part_size:(i + 1) * part_size] for i in range(num_parts)]\n",
    "\n",
    "# Helper function to save a signal to a file\n",
    "def save_signal(file_path, signal):\n",
    "    np.savetxt(file_path, signal, fmt='%.6f')\n",
    "\n",
    "# Loop through both 'A' and 'E' folders\n",
    "for folder, sub_folder in folders.items():\n",
    "    source_path = os.path.join(root_path, folder, sub_folder)\n",
    "    dest_folder = f\"{folder}_extended\"\n",
    "    dest_path = os.path.join(new_root_path, dest_folder)\n",
    "    os.makedirs(dest_path, exist_ok=True)\n",
    "\n",
    "    # Process each signal file in the source folder\n",
    "    for filename in sorted(os.listdir(source_path)):\n",
    "        if filename.endswith('.txt'):\n",
    "            file_path = os.path.join(source_path, filename)\n",
    "            signal = np.loadtxt(file_path)  # Load the signal\n",
    "\n",
    "            # Generate 4 parts\n",
    "            parts_4 = divide_signal(signal, 4)\n",
    "            for i, part in enumerate(parts_4, 1):\n",
    "                save_signal(os.path.join(dest_path, f\"{filename[:-4]}{i}.txt\"), part)\n",
    "\n",
    "'''\n",
    "            # Generate 2 parts\n",
    "            parts_2 = divide_signal(signal, 2)\n",
    "            for i, part in enumerate(parts_2, 5):\n",
    "                save_signal(os.path.join(dest_path, f\"{filename[:-4]}{i}.txt\"), part)\n",
    "\n",
    "            # Generate 3/4 of the signal\n",
    "            signal_3_4 = signal[:len(signal) * 3 // 4]\n",
    "            save_signal(os.path.join(dest_path, f\"{filename[:-4]}7.txt\"), signal_3_4)\n",
    "\n",
    "            # Save the original signal with '0' appended to its name\n",
    "            save_signal(os.path.join(dest_path, f\"{filename[:-4]}0.txt\"), signal)\n",
    "'''\n",
    "\n",
    "print(\"Extended dataset generated successfully!\")\n"
   ]
  }
 ],
 "metadata": {
  "kernelspec": {
   "display_name": "Python 3",
   "language": "python",
   "name": "python3"
  },
  "language_info": {
   "codemirror_mode": {
    "name": "ipython",
    "version": 3
   },
   "file_extension": ".py",
   "mimetype": "text/x-python",
   "name": "python",
   "nbconvert_exporter": "python",
   "pygments_lexer": "ipython3",
   "version": "3.9.5"
  }
 },
 "nbformat": 4,
 "nbformat_minor": 2
}
