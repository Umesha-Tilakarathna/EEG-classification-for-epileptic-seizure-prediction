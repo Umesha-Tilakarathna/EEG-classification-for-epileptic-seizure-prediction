{
 "cells": [
  {
   "cell_type": "code",
   "execution_count": 2,
   "metadata": {},
   "outputs": [
    {
     "name": "stdout",
     "output_type": "stream",
     "text": [
      "CSV file saved successfully at wavelet_metrics_1.csv\n"
     ]
    }
   ],
   "source": [
    "import os\n",
    "import glob\n",
    "import pandas as pd\n",
    "\n",
    "# Step 1: Define the extracted data folder and the sub-band mapping\n",
    "extracted_data_folder = 'Extracted_Data_New'\n",
    "subbands = {'A5': 'A5', 'D3': 'D3', 'D4': 'D4', 'D5': 'D5'}\n",
    "\n",
    "# Step 2: Initialize a list to store data rows for the CSV\n",
    "data_rows = []\n",
    "\n",
    "# Step 3: Process each folder in the Extracted Data folder\n",
    "folders = glob.glob(os.path.join(extracted_data_folder, '*'))\n",
    "\n",
    "for folder in folders:\n",
    "    signal_name = os.path.basename(folder)  # Extract signal name (e.g., Z0010)\n",
    "    row = {'Data': signal_name}  # Initialize a row dictionary\n",
    "\n",
    "    # Step 4: Loop through the sub-bands to extract metrics\n",
    "    for subband, renamed_subband in subbands.items():\n",
    "        metrics_file = os.path.join(folder, f'{signal_name}{renamed_subband}.txt')\n",
    "\n",
    "        if os.path.exists(metrics_file):\n",
    "            # Read metrics from the file\n",
    "            with open(metrics_file, 'r') as f:\n",
    "                metrics = f.readlines()\n",
    "\n",
    "            # Parse and store each metric in the row dictionary\n",
    "            row[f'MAV_{renamed_subband}'] = float(metrics[1].split(':')[1].strip())\n",
    "            row[f'Avg.Power_{renamed_subband}'] = float(metrics[2].split(':')[1].strip())\n",
    "            row[f'SD_{renamed_subband}'] = float(metrics[3].split(':')[1].strip())\n",
    "            row[f'MAV_Ratio_{renamed_subband}'] = float(metrics[4].split(':')[1].strip())\n",
    "        else:\n",
    "            print(f\"Metrics file for {renamed_subband} not found in {folder}.\")\n",
    "            # Fill with NaN if the file doesn't exist\n",
    "            row[f'MAV_{renamed_subband}'] = float('nan')\n",
    "            row[f'Avg.Power_{renamed_subband}'] = float('nan')\n",
    "            row[f'SD_{renamed_subband}'] = float('nan')\n",
    "            row[f'MAV_Ratio_{renamed_subband}'] = float('nan')\n",
    "\n",
    "    # Step 5: Add label (1 if A_extended, 0 otherwise)\n",
    "    row['label'] = int(metrics[0].split(':')[1].strip())\n",
    "\n",
    "    # Step 6: Append the row to the data_rows list\n",
    "    data_rows.append(row)\n",
    "\n",
    "# Step 7: Convert the data into a DataFrame and save it as a CSV file\n",
    "df = pd.DataFrame(data_rows)\n",
    "\n",
    "# Suffling the data\n",
    "df = df.sample(frac=1).reset_index(drop=True)\n",
    "\n",
    "# Step 8: Define the CSV file path and save the DataFrame\n",
    "csv_file_path = 'wavelet_metrics_1.csv'\n",
    "df.to_csv(csv_file_path, index=False)\n",
    "\n",
    "print(f\"CSV file saved successfully at {csv_file_path}\")\n"
   ]
  }
 ],
 "metadata": {
  "kernelspec": {
   "display_name": "Python 3",
   "language": "python",
   "name": "python3"
  },
  "language_info": {
   "codemirror_mode": {
    "name": "ipython",
    "version": 3
   },
   "file_extension": ".py",
   "mimetype": "text/x-python",
   "name": "python",
   "nbconvert_exporter": "python",
   "pygments_lexer": "ipython3",
   "version": "3.9.5"
  }
 },
 "nbformat": 4,
 "nbformat_minor": 2
}
